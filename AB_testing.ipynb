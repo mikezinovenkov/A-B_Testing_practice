{
 "cells": [
  {
   "cell_type": "markdown",
   "metadata": {},
   "source": [
    "# A/B Testing on Marketing Campaigns"
   ]
  },
  {
   "cell_type": "code",
   "execution_count": 2,
   "metadata": {},
   "outputs": [],
   "source": [
    "import pandas as pd\n",
    "import matplotlib.pyplot as plt\n",
    "import seaborn as sns\n",
    "from scipy import stats"
   ]
  },
  {
   "cell_type": "code",
   "execution_count": 4,
   "metadata": {
    "colab": {
     "base_uri": "https://localhost:8080/",
     "height": 355
    },
    "colab_type": "code",
    "executionInfo": {
     "elapsed": 1618,
     "status": "ok",
     "timestamp": 1573997963947,
     "user": {
      "displayName": "Rajeev Ratan",
      "photoUrl": "https://lh3.googleusercontent.com/a-/AAuE7mCGo6aIm0tOcd5EhqWlYb0rime9sBvHS9YMpx0D2w=s64",
      "userId": "08597265227091462140"
     },
     "user_tz": 0
    },
    "id": "JFrtn4mCiqyP",
    "outputId": "9376b70e-ac45-4c88-8ccf-47d1a91d0c4b"
   },
   "outputs": [
    {
     "data": {
      "text/html": [
       "<div>\n",
       "<style scoped>\n",
       "    .dataframe tbody tr th:only-of-type {\n",
       "        vertical-align: middle;\n",
       "    }\n",
       "\n",
       "    .dataframe tbody tr th {\n",
       "        vertical-align: top;\n",
       "    }\n",
       "\n",
       "    .dataframe thead th {\n",
       "        text-align: right;\n",
       "    }\n",
       "</style>\n",
       "<table border=\"1\" class=\"dataframe\">\n",
       "  <thead>\n",
       "    <tr style=\"text-align: right;\">\n",
       "      <th></th>\n",
       "      <th>OutletID</th>\n",
       "      <th>MarketSize</th>\n",
       "      <th>AgeofOutlets</th>\n",
       "      <th>Campaigns</th>\n",
       "      <th>Week</th>\n",
       "      <th>SalesInThousands</th>\n",
       "    </tr>\n",
       "  </thead>\n",
       "  <tbody>\n",
       "    <tr>\n",
       "      <th>0</th>\n",
       "      <td>1</td>\n",
       "      <td>Medium</td>\n",
       "      <td>4</td>\n",
       "      <td>3</td>\n",
       "      <td>1</td>\n",
       "      <td>33.73</td>\n",
       "    </tr>\n",
       "    <tr>\n",
       "      <th>1</th>\n",
       "      <td>1</td>\n",
       "      <td>Medium</td>\n",
       "      <td>4</td>\n",
       "      <td>3</td>\n",
       "      <td>2</td>\n",
       "      <td>35.67</td>\n",
       "    </tr>\n",
       "    <tr>\n",
       "      <th>2</th>\n",
       "      <td>1</td>\n",
       "      <td>Medium</td>\n",
       "      <td>4</td>\n",
       "      <td>3</td>\n",
       "      <td>3</td>\n",
       "      <td>29.03</td>\n",
       "    </tr>\n",
       "    <tr>\n",
       "      <th>3</th>\n",
       "      <td>1</td>\n",
       "      <td>Medium</td>\n",
       "      <td>4</td>\n",
       "      <td>3</td>\n",
       "      <td>4</td>\n",
       "      <td>39.25</td>\n",
       "    </tr>\n",
       "    <tr>\n",
       "      <th>4</th>\n",
       "      <td>2</td>\n",
       "      <td>Medium</td>\n",
       "      <td>5</td>\n",
       "      <td>2</td>\n",
       "      <td>1</td>\n",
       "      <td>27.81</td>\n",
       "    </tr>\n",
       "  </tbody>\n",
       "</table>\n",
       "</div>"
      ],
      "text/plain": [
       "   OutletID MarketSize  AgeofOutlets  Campaigns  Week  SalesInThousands\n",
       "0         1     Medium             4          3     1             33.73\n",
       "1         1     Medium             4          3     2             35.67\n",
       "2         1     Medium             4          3     3             29.03\n",
       "3         1     Medium             4          3     4             39.25\n",
       "4         2     Medium             5          2     1             27.81"
      ]
     },
     "execution_count": 4,
     "metadata": {},
     "output_type": "execute_result"
    }
   ],
   "source": [
    "df = pd.read_csv('campaigns.csv')\n",
    "df.head()"
   ]
  },
  {
   "cell_type": "code",
   "execution_count": 5,
   "metadata": {},
   "outputs": [
    {
     "name": "stdout",
     "output_type": "stream",
     "text": [
      "Rows            : 548\n",
      "Columns         : 6\n",
      "Features        : ['OutletID', 'MarketSize', 'AgeofOutlets', 'Campaigns', 'Week', 'SalesInThousands']\n",
      "Missing Values  : 0\n",
      "Unique Values   : \n",
      "\n",
      "OutletID            137\n",
      "MarketSize            3\n",
      "AgeofOutlets         25\n",
      "Campaigns             3\n",
      "Week                  4\n",
      "SalesInThousands    517\n",
      "dtype: int64\n"
     ]
    }
   ],
   "source": [
    "print(f'Rows            : {df.shape[0]}')\n",
    "print(f'Columns         : {df.shape[1]}')\n",
    "print(f'Features        : {df.columns.tolist()}')\n",
    "print(f'Missing Values  : {df.isnull().values.sum()}')\n",
    "print(f'Unique Values   : \\n\\n{df.nunique()}')"
   ]
  },
  {
   "cell_type": "code",
   "execution_count": 6,
   "metadata": {
    "colab": {
     "base_uri": "https://localhost:8080/",
     "height": 294
    },
    "colab_type": "code",
    "executionInfo": {
     "elapsed": 991,
     "status": "ok",
     "timestamp": 1573997963951,
     "user": {
      "displayName": "Rajeev Ratan",
      "photoUrl": "https://lh3.googleusercontent.com/a-/AAuE7mCGo6aIm0tOcd5EhqWlYb0rime9sBvHS9YMpx0D2w=s64",
      "userId": "08597265227091462140"
     },
     "user_tz": 0
    },
    "id": "nXf1B035hQg7",
    "outputId": "ee48ccdb-5b41-4193-e21c-9eef41646494"
   },
   "outputs": [
    {
     "data": {
      "text/html": [
       "<div>\n",
       "<style scoped>\n",
       "    .dataframe tbody tr th:only-of-type {\n",
       "        vertical-align: middle;\n",
       "    }\n",
       "\n",
       "    .dataframe tbody tr th {\n",
       "        vertical-align: top;\n",
       "    }\n",
       "\n",
       "    .dataframe thead th {\n",
       "        text-align: right;\n",
       "    }\n",
       "</style>\n",
       "<table border=\"1\" class=\"dataframe\">\n",
       "  <thead>\n",
       "    <tr style=\"text-align: right;\">\n",
       "      <th></th>\n",
       "      <th>OutletID</th>\n",
       "      <th>AgeofOutlets</th>\n",
       "      <th>Campaigns</th>\n",
       "      <th>Week</th>\n",
       "      <th>SalesInThousands</th>\n",
       "    </tr>\n",
       "  </thead>\n",
       "  <tbody>\n",
       "    <tr>\n",
       "      <th>count</th>\n",
       "      <td>548.000000</td>\n",
       "      <td>548.000000</td>\n",
       "      <td>548.000000</td>\n",
       "      <td>548.000000</td>\n",
       "      <td>548.000000</td>\n",
       "    </tr>\n",
       "    <tr>\n",
       "      <th>mean</th>\n",
       "      <td>479.656934</td>\n",
       "      <td>8.503650</td>\n",
       "      <td>2.029197</td>\n",
       "      <td>2.500000</td>\n",
       "      <td>53.466204</td>\n",
       "    </tr>\n",
       "    <tr>\n",
       "      <th>std</th>\n",
       "      <td>287.973679</td>\n",
       "      <td>6.638345</td>\n",
       "      <td>0.810729</td>\n",
       "      <td>1.119055</td>\n",
       "      <td>16.755216</td>\n",
       "    </tr>\n",
       "    <tr>\n",
       "      <th>min</th>\n",
       "      <td>1.000000</td>\n",
       "      <td>1.000000</td>\n",
       "      <td>1.000000</td>\n",
       "      <td>1.000000</td>\n",
       "      <td>17.340000</td>\n",
       "    </tr>\n",
       "    <tr>\n",
       "      <th>25%</th>\n",
       "      <td>216.000000</td>\n",
       "      <td>4.000000</td>\n",
       "      <td>1.000000</td>\n",
       "      <td>1.750000</td>\n",
       "      <td>42.545000</td>\n",
       "    </tr>\n",
       "    <tr>\n",
       "      <th>50%</th>\n",
       "      <td>504.000000</td>\n",
       "      <td>7.000000</td>\n",
       "      <td>2.000000</td>\n",
       "      <td>2.500000</td>\n",
       "      <td>50.200000</td>\n",
       "    </tr>\n",
       "    <tr>\n",
       "      <th>75%</th>\n",
       "      <td>708.000000</td>\n",
       "      <td>12.000000</td>\n",
       "      <td>3.000000</td>\n",
       "      <td>3.250000</td>\n",
       "      <td>60.477500</td>\n",
       "    </tr>\n",
       "    <tr>\n",
       "      <th>max</th>\n",
       "      <td>920.000000</td>\n",
       "      <td>28.000000</td>\n",
       "      <td>3.000000</td>\n",
       "      <td>4.000000</td>\n",
       "      <td>99.650000</td>\n",
       "    </tr>\n",
       "  </tbody>\n",
       "</table>\n",
       "</div>"
      ],
      "text/plain": [
       "         OutletID  AgeofOutlets   Campaigns        Week  SalesInThousands\n",
       "count  548.000000    548.000000  548.000000  548.000000        548.000000\n",
       "mean   479.656934      8.503650    2.029197    2.500000         53.466204\n",
       "std    287.973679      6.638345    0.810729    1.119055         16.755216\n",
       "min      1.000000      1.000000    1.000000    1.000000         17.340000\n",
       "25%    216.000000      4.000000    1.000000    1.750000         42.545000\n",
       "50%    504.000000      7.000000    2.000000    2.500000         50.200000\n",
       "75%    708.000000     12.000000    3.000000    3.250000         60.477500\n",
       "max    920.000000     28.000000    3.000000    4.000000         99.650000"
      ]
     },
     "execution_count": 6,
     "metadata": {},
     "output_type": "execute_result"
    }
   ],
   "source": [
    "df.describe()"
   ]
  },
  {
   "cell_type": "markdown",
   "metadata": {
    "colab_type": "text",
    "id": "lc6EtBPmT2jt"
   },
   "source": [
    "# EDA and Visualizations"
   ]
  },
  {
   "cell_type": "code",
   "execution_count": 7,
   "metadata": {
    "colab": {
     "base_uri": "https://localhost:8080/",
     "height": 483
    },
    "colab_type": "code",
    "executionInfo": {
     "elapsed": 1296,
     "status": "ok",
     "timestamp": 1573997964880,
     "user": {
      "displayName": "Rajeev Ratan",
      "photoUrl": "https://lh3.googleusercontent.com/a-/AAuE7mCGo6aIm0tOcd5EhqWlYb0rime9sBvHS9YMpx0D2w=s64",
      "userId": "08597265227091462140"
     },
     "user_tz": 0
    },
    "id": "doSO_gqViqyZ",
    "outputId": "a84827fc-fe67-41ea-db14-e1fced3cc5e7"
   },
   "outputs": [
    {
     "data": {
      "image/png": "[encoded data removed]",
      "text/plain": [
       "<Figure size 800x800 with 1 Axes>"
      ]
     },
     "metadata": {},
     "output_type": "display_data"
    }
   ],
   "source": [
    "# Create some plots to visual our sales and marketing data\n",
    "# Using fivethirtyeight style on matplotlib\n",
    "\n",
    "plt.style.use('fivethirtyeight')\n",
    "ax = df.groupby('Campaigns').sum()['SalesInThousands'].plot.pie(figsize=(8,8),\n",
    "                                                                autopct='%1.0f%%',\n",
    "                                                                explode = (0, 0.1, 0),\n",
    "                                                                textprops = {'fontsize' : 15})\n",
    "ax.set_ylabel('')\n",
    "ax.set_title('Sales Distribution Across the 3 Different Promotions', fontsize = 20)\n",
    "\n",
    "plt.show()"
   ]
  },
  {
   "cell_type": "code",
   "execution_count": 8,
   "metadata": {
    "colab": {
     "base_uri": "https://localhost:8080/",
     "height": 208
    },
    "colab_type": "code",
    "executionInfo": {
     "elapsed": 1746,
     "status": "ok",
     "timestamp": 1573997965632,
     "user": {
      "displayName": "Rajeev Ratan",
      "photoUrl": "https://lh3.googleusercontent.com/a-/AAuE7mCGo6aIm0tOcd5EhqWlYb0rime9sBvHS9YMpx0D2w=s64",
      "userId": "08597265227091462140"
     },
     "user_tz": 0
    },
    "id": "KQ_wDqmWSwLW",
    "outputId": "34725d40-119a-44fe-d560-9036535e9741"
   },
   "outputs": [
    {
     "data": {
      "text/plain": [
       "Campaigns  MarketSize\n",
       "1          Large          56\n",
       "           Medium         96\n",
       "           Small          20\n",
       "2          Large          64\n",
       "           Medium        108\n",
       "           Small          16\n",
       "3          Large          48\n",
       "           Medium        116\n",
       "           Small          24\n",
       "Name: OutletID, dtype: int64"
      ]
     },
     "execution_count": 8,
     "metadata": {},
     "output_type": "execute_result"
    }
   ],
   "source": [
    "# Now let's view the promotions for each market size\n",
    "df.groupby(['Campaigns', 'MarketSize']).count()['OutletID']"
   ]
  },
  {
   "cell_type": "code",
   "execution_count": 9,
   "metadata": {
    "colab": {
     "base_uri": "https://localhost:8080/",
     "height": 171
    },
    "colab_type": "code",
    "executionInfo": {
     "elapsed": 1454,
     "status": "ok",
     "timestamp": 1573997965633,
     "user": {
      "displayName": "Rajeev Ratan",
      "photoUrl": "https://lh3.googleusercontent.com/a-/AAuE7mCGo6aIm0tOcd5EhqWlYb0rime9sBvHS9YMpx0D2w=s64",
      "userId": "08597265227091462140"
     },
     "user_tz": 0
    },
    "id": "7XsltrtKiOf7",
    "outputId": "94f3880a-9301-46fd-9fca-cfeba26253b8"
   },
   "outputs": [
    {
     "data": {
      "text/html": [
       "<div>\n",
       "<style scoped>\n",
       "    .dataframe tbody tr th:only-of-type {\n",
       "        vertical-align: middle;\n",
       "    }\n",
       "\n",
       "    .dataframe tbody tr th {\n",
       "        vertical-align: top;\n",
       "    }\n",
       "\n",
       "    .dataframe thead th {\n",
       "        text-align: right;\n",
       "    }\n",
       "</style>\n",
       "<table border=\"1\" class=\"dataframe\">\n",
       "  <thead>\n",
       "    <tr style=\"text-align: right;\">\n",
       "      <th>MarketSize</th>\n",
       "      <th>Large</th>\n",
       "      <th>Medium</th>\n",
       "      <th>Small</th>\n",
       "    </tr>\n",
       "    <tr>\n",
       "      <th>Campaigns</th>\n",
       "      <th></th>\n",
       "      <th></th>\n",
       "      <th></th>\n",
       "    </tr>\n",
       "  </thead>\n",
       "  <tbody>\n",
       "    <tr>\n",
       "      <th>1</th>\n",
       "      <td>56</td>\n",
       "      <td>96</td>\n",
       "      <td>20</td>\n",
       "    </tr>\n",
       "    <tr>\n",
       "      <th>2</th>\n",
       "      <td>64</td>\n",
       "      <td>108</td>\n",
       "      <td>16</td>\n",
       "    </tr>\n",
       "    <tr>\n",
       "      <th>3</th>\n",
       "      <td>48</td>\n",
       "      <td>116</td>\n",
       "      <td>24</td>\n",
       "    </tr>\n",
       "  </tbody>\n",
       "</table>\n",
       "</div>"
      ],
      "text/plain": [
       "MarketSize  Large  Medium  Small\n",
       "Campaigns                       \n",
       "1              56      96     20\n",
       "2              64     108     16\n",
       "3              48     116     24"
      ]
     },
     "execution_count": 9,
     "metadata": {},
     "output_type": "execute_result"
    }
   ],
   "source": [
    "# Using unstack\n",
    "df.groupby(['Campaigns', 'MarketSize']).count()['OutletID'].unstack('MarketSize')"
   ]
  },
  {
   "cell_type": "code",
   "execution_count": 10,
   "metadata": {
    "colab": {
     "base_uri": "https://localhost:8080/",
     "height": 622
    },
    "colab_type": "code",
    "executionInfo": {
     "elapsed": 1861,
     "status": "ok",
     "timestamp": 1573997966382,
     "user": {
      "displayName": "Rajeev Ratan",
      "photoUrl": "https://lh3.googleusercontent.com/a-/AAuE7mCGo6aIm0tOcd5EhqWlYb0rime9sBvHS9YMpx0D2w=s64",
      "userId": "08597265227091462140"
     },
     "user_tz": 0
    },
    "id": "SoJNWkPAiqyc",
    "outputId": "3467fbfc-2ecd-4ceb-ca20-9577fbcf58f3"
   },
   "outputs": [
    {
     "data": {
      "image/png": "[encoded data removed]",
      "text/plain": [
       "<Figure size 1000x800 with 1 Axes>"
      ]
     },
     "metadata": {},
     "output_type": "display_data"
    }
   ],
   "source": [
    "# Put this into a plot\n",
    "ax = df.groupby(['Campaigns', 'MarketSize']).count()['OutletID'].unstack('MarketSize').plot(\n",
    "    kind='bar',\n",
    "    figsize=(10,8),\n",
    "    grid=True)\n",
    "\n",
    "ax.tick_params(axis = 'x', labelsize= 15)\n",
    "plt.xticks(rotation = 'horizontal')\n",
    "ax.tick_params(axis = 'y', labelsize = 15)\n",
    "ax.set_ylabel('Count')\n",
    "ax.set_title('Breakdowns of Market Sizes across Different Campaigns', fontsize = 20)\n",
    "\n",
    "plt.show()"
   ]
  },
  {
   "cell_type": "code",
   "execution_count": 11,
   "metadata": {
    "colab": {
     "base_uri": "https://localhost:8080/",
     "height": 465
    },
    "colab_type": "code",
    "executionInfo": {
     "elapsed": 2437,
     "status": "ok",
     "timestamp": 1573997967593,
     "user": {
      "displayName": "Rajeev Ratan",
      "photoUrl": "https://lh3.googleusercontent.com/a-/AAuE7mCGo6aIm0tOcd5EhqWlYb0rime9sBvHS9YMpx0D2w=s64",
      "userId": "08597265227091462140"
     },
     "user_tz": 0
    },
    "id": "ALayjDr3iqyh",
    "outputId": "b488bea3-6c8e-4891-b83e-7e77ec898653"
   },
   "outputs": [
    {
     "data": {
      "image/png": "[encoded data removed]",
      "text/plain": [
       "<Figure size 1200x700 with 1 Axes>"
      ]
     },
     "metadata": {},
     "output_type": "display_data"
    }
   ],
   "source": [
    "ax = df.groupby('AgeofOutlets').count()['OutletID'].plot(\n",
    "    kind='bar', \n",
    "    figsize=(12,7),\n",
    "    grid=True)\n",
    "\n",
    "ax.set_xlabel('Age')\n",
    "ax.set_ylabel('Count')\n",
    "ax.set_title('Overall Distributions Outlet Ages')\n",
    "\n",
    "plt.show()"
   ]
  },
  {
   "cell_type": "code",
   "execution_count": 10,
   "metadata": {
    "colab": {
     "base_uri": "https://localhost:8080/",
     "height": 1000
    },
    "colab_type": "code",
    "executionInfo": {
     "elapsed": 2224,
     "status": "ok",
     "timestamp": 1573997968059,
     "user": {
      "displayName": "Rajeev Ratan",
      "photoUrl": "https://lh3.googleusercontent.com/a-/AAuE7mCGo6aIm0tOcd5EhqWlYb0rime9sBvHS9YMpx0D2w=s64",
      "userId": "08597265227091462140"
     },
     "user_tz": 0
    },
    "id": "yHZPohk6iqyk",
    "outputId": "8e257555-930a-4f8c-aed9-e18c5c4fb8b4"
   },
   "outputs": [
    {
     "data": {
      "image/png": "[encoded data removed]",
      "text/plain": [
       "<Figure size 1008x1296 with 1 Axes>"
      ]
     },
     "metadata": {},
     "output_type": "display_data"
    }
   ],
   "source": [
    "# Visualize this summary\n",
    "ax = df.groupby(['AgeofOutlets', 'Campaigns']).count()['OutletID'].unstack('Campaigns').iloc[::-1].plot(\n",
    "    kind='barh', \n",
    "    figsize=(14,18),\n",
    "    grid=True)\n",
    "                                                                                                               \n",
    "ax.set_ylabel('Age')\n",
    "ax.set_xlabel('Count')\n",
    "ax.set_title('Overall Distributions of Age of Outlets')\n",
    "\n",
    "plt.show()"
   ]
  },
  {
   "cell_type": "code",
   "execution_count": 11,
   "metadata": {
    "colab": {
     "base_uri": "https://localhost:8080/",
     "height": 171
    },
    "colab_type": "code",
    "executionInfo": {
     "elapsed": 1916,
     "status": "ok",
     "timestamp": 1573997968061,
     "user": {
      "displayName": "Rajeev Ratan",
      "photoUrl": "https://lh3.googleusercontent.com/a-/AAuE7mCGo6aIm0tOcd5EhqWlYb0rime9sBvHS9YMpx0D2w=s64",
      "userId": "08597265227091462140"
     },
     "user_tz": 0
    },
    "id": "O7nhk6hqiqyp",
    "outputId": "e7a10493-976b-468c-f088-4d318288f0af"
   },
   "outputs": [
    {
     "data": {
      "text/html": [
       "<div>\n",
       "<style scoped>\n",
       "    .dataframe tbody tr th:only-of-type {\n",
       "        vertical-align: middle;\n",
       "    }\n",
       "\n",
       "    .dataframe tbody tr th {\n",
       "        vertical-align: top;\n",
       "    }\n",
       "\n",
       "    .dataframe thead th {\n",
       "        text-align: right;\n",
       "    }\n",
       "</style>\n",
       "<table border=\"1\" class=\"dataframe\">\n",
       "  <thead>\n",
       "    <tr style=\"text-align: right;\">\n",
       "      <th></th>\n",
       "      <th>count</th>\n",
       "      <th>mean</th>\n",
       "      <th>std</th>\n",
       "      <th>min</th>\n",
       "      <th>25%</th>\n",
       "      <th>50%</th>\n",
       "      <th>75%</th>\n",
       "      <th>max</th>\n",
       "    </tr>\n",
       "    <tr>\n",
       "      <th>Campaigns</th>\n",
       "      <th></th>\n",
       "      <th></th>\n",
       "      <th></th>\n",
       "      <th></th>\n",
       "      <th></th>\n",
       "      <th></th>\n",
       "      <th></th>\n",
       "      <th></th>\n",
       "    </tr>\n",
       "  </thead>\n",
       "  <tbody>\n",
       "    <tr>\n",
       "      <th>1</th>\n",
       "      <td>172.0</td>\n",
       "      <td>8.279070</td>\n",
       "      <td>6.636160</td>\n",
       "      <td>1.0</td>\n",
       "      <td>3.0</td>\n",
       "      <td>6.0</td>\n",
       "      <td>12.0</td>\n",
       "      <td>27.0</td>\n",
       "    </tr>\n",
       "    <tr>\n",
       "      <th>2</th>\n",
       "      <td>188.0</td>\n",
       "      <td>7.978723</td>\n",
       "      <td>6.597648</td>\n",
       "      <td>1.0</td>\n",
       "      <td>3.0</td>\n",
       "      <td>7.0</td>\n",
       "      <td>10.0</td>\n",
       "      <td>28.0</td>\n",
       "    </tr>\n",
       "    <tr>\n",
       "      <th>3</th>\n",
       "      <td>188.0</td>\n",
       "      <td>9.234043</td>\n",
       "      <td>6.651646</td>\n",
       "      <td>1.0</td>\n",
       "      <td>5.0</td>\n",
       "      <td>8.0</td>\n",
       "      <td>12.0</td>\n",
       "      <td>24.0</td>\n",
       "    </tr>\n",
       "  </tbody>\n",
       "</table>\n",
       "</div>"
      ],
      "text/plain": [
       "           count      mean       std  min  25%  50%   75%   max\n",
       "Campaigns                                                      \n",
       "1          172.0  8.279070  6.636160  1.0  3.0  6.0  12.0  27.0\n",
       "2          188.0  7.978723  6.597648  1.0  3.0  7.0  10.0  28.0\n",
       "3          188.0  9.234043  6.651646  1.0  5.0  8.0  12.0  24.0"
      ]
     },
     "execution_count": 11,
     "metadata": {},
     "output_type": "execute_result"
    }
   ],
   "source": [
    "# Every campaigns has similar age profiles and the average outlet ages is around 8 ~ 9 years old\n",
    "# Majority of the outlet are around 10 ~ 12 years old or younger\n",
    "\n",
    "df.groupby('Campaigns').describe()['AgeofOutlets']"
   ]
  },
  {
   "cell_type": "markdown",
   "metadata": {
    "colab_type": "text",
    "id": "APnBnPBKUz2y"
   },
   "source": [
    "# Performing A/B Testing on Three Marketing Campaigns"
   ]
  },
  {
   "cell_type": "code",
   "execution_count": 12,
   "metadata": {
    "colab": {
     "base_uri": "https://localhost:8080/",
     "height": 277
    },
    "colab_type": "code",
    "executionInfo": {
     "elapsed": 580,
     "status": "ok",
     "timestamp": 1573998191625,
     "user": {
      "displayName": "Rajeev Ratan",
      "photoUrl": "https://lh3.googleusercontent.com/a-/AAuE7mCGo6aIm0tOcd5EhqWlYb0rime9sBvHS9YMpx0D2w=s64",
      "userId": "08597265227091462140"
     },
     "user_tz": 0
    },
    "id": "5TBx6yEXiqys",
    "outputId": "21492f62-5a1e-4d47-e271-b5179d2337d4"
   },
   "outputs": [
    {
     "name": "stdout",
     "output_type": "stream",
     "text": [
      "===== MEAN ====== \n",
      "Campaigns\n",
      "1    58.099012\n",
      "2    47.329415\n",
      "3    55.364468\n",
      "Name: SalesInThousands, dtype: float64\n",
      "\n",
      "===== STANDARD DEVIATION ====== \n",
      "Campaigns\n",
      "1    16.553782\n",
      "2    15.108955\n",
      "3    16.766231\n",
      "Name: SalesInThousands, dtype: float64\n",
      "\n",
      "===== OBSERVATIONS ====== \n",
      "Campaigns\n",
      "1    172\n",
      "2    188\n",
      "3    188\n",
      "Name: SalesInThousands, dtype: int64\n",
      "\n"
     ]
    }
   ],
   "source": [
    "means = df.groupby('Campaigns').mean()['SalesInThousands']\n",
    "stdev = df.groupby('Campaigns').std()['SalesInThousands']\n",
    "obs = df.groupby('Campaigns').count()['SalesInThousands']\n",
    "print(f'===== MEAN ====== \\n{means}\\n')\n",
    "print(f'===== STANDARD DEVIATION ====== \\n{stdev}\\n')\n",
    "print(f'===== OBSERVATIONS ====== \\n{obs}\\n')"
   ]
  },
  {
   "cell_type": "markdown",
   "metadata": {
    "colab_type": "text",
    "id": "BgAgZHlAVRsS"
   },
   "source": [
    "# A/B Testing: 1st Campaigns vs 2nd Campaigns"
   ]
  },
  {
   "cell_type": "code",
   "execution_count": 13,
   "metadata": {
    "colab": {
     "base_uri": "https://localhost:8080/",
     "height": 52
    },
    "colab_type": "code",
    "executionInfo": {
     "elapsed": 593,
     "status": "ok",
     "timestamp": 1573998248738,
     "user": {
      "displayName": "Rajeev Ratan",
      "photoUrl": "https://lh3.googleusercontent.com/a-/AAuE7mCGo6aIm0tOcd5EhqWlYb0rime9sBvHS9YMpx0D2w=s64",
      "userId": "08597265227091462140"
     },
     "user_tz": 0
    },
    "id": "9viIzw-Tiqyz",
    "outputId": "007fc8b4-0fc0-4a1f-c352-65b7565a9899"
   },
   "outputs": [
    {
     "name": "stdout",
     "output_type": "stream",
     "text": [
      "t-value = 6.42752867090748\n",
      "p-value = 4.2903687179871785e-10\n"
     ]
    }
   ],
   "source": [
    "# Computing the t and p values using scipy \n",
    "\n",
    "t, p = stats.ttest_ind(df.loc[df['Campaigns'] == 1, 'SalesInThousands'].values,\n",
    "                       df.loc[df['Campaigns'] == 2, 'SalesInThousands'].values, \n",
    "                       equal_var=False)\n",
    "print(f't-value = {str(t)}')\n",
    "print(f'p-value = {str(p)}')"
   ]
  },
  {
   "cell_type": "markdown",
   "metadata": {
    "colab_type": "text",
    "id": "unxLmuGYGSZ2"
   },
   "source": [
    "# Analysis of P and t-values (1 vs 2)\n",
    "\n",
    "Our p-Value is close to 0 which means that there is good evidence to **reject the null hypothesis**. Meaning the there is a statistical difference between the two groups. Our threshold rejectings the Null is usually less than 0.05.\n",
    "\n",
    "Furthermore, the t-test shows that the marketing performances for these two groups are significantly different and that first marketing campaigns outperforms second marketing campaigns."
   ]
  },
  {
   "cell_type": "markdown",
   "metadata": {},
   "source": [
    "***"
   ]
  },
  {
   "cell_type": "markdown",
   "metadata": {
    "colab_type": "text",
    "id": "c5Li9WaMVfZF"
   },
   "source": [
    "# A/B Testing: 1st Campaigns vs 3rd Campaigns\n",
    "\n",
    "However, if we run a t-test between the promotion group 1 and promotion group 3, we see different results:"
   ]
  },
  {
   "cell_type": "code",
   "execution_count": 14,
   "metadata": {
    "colab": {
     "base_uri": "https://localhost:8080/",
     "height": 52
    },
    "colab_type": "code",
    "executionInfo": {
     "elapsed": 640,
     "status": "ok",
     "timestamp": 1573998527053,
     "user": {
      "displayName": "Rajeev Ratan",
      "photoUrl": "https://lh3.googleusercontent.com/a-/AAuE7mCGo6aIm0tOcd5EhqWlYb0rime9sBvHS9YMpx0D2w=s64",
      "userId": "08597265227091462140"
     },
     "user_tz": 0
    },
    "id": "SLLtch3xiqy4",
    "outputId": "62ed7463-5720-4450-9b89-4b077af12649"
   },
   "outputs": [
    {
     "name": "stdout",
     "output_type": "stream",
     "text": [
      "t-value = 1.5560224307758634\n",
      "p-value = 0.12059147742229478\n"
     ]
    }
   ],
   "source": [
    "t, p = stats.ttest_ind(\n",
    "    df.loc[df['Campaigns'] == 1, 'SalesInThousands'].values, \n",
    "    df.loc[df['Campaigns'] == 3, 'SalesInThousands'].values, \n",
    "    equal_var = False)\n",
    "\n",
    "print(f't-value = {str(t)}')\n",
    "print(f'p-value = {str(p)}')"
   ]
  },
  {
   "cell_type": "markdown",
   "metadata": {
    "colab_type": "text",
    "id": "QURnWYZmKqDE"
   },
   "source": [
    "# Analysis of P and t-values (1 vs 3)\n",
    "\n",
    "We note that the average sales from first marketing campaigns (58.1) is higher than those from third marketing campaigns (55.36). \n",
    "But, running a t-test between these two groups, gives us a t-value of 1.556 and a p-value of 0.121. \n",
    "The computed **p-value is a lot higher than 0.05**, past the threshold for statistical significance."
   ]
  },
  {
   "cell_type": "markdown",
   "metadata": {},
   "source": [
    "***"
   ]
  },
  {
   "cell_type": "markdown",
   "metadata": {
    "colab_type": "text",
    "id": "c5Li9WaMVfZF"
   },
   "source": [
    "# A/B Testing: 2nd Campaigns vs 3rd Campaigns"
   ]
  },
  {
   "cell_type": "code",
   "execution_count": 15,
   "metadata": {
    "colab": {
     "base_uri": "https://localhost:8080/",
     "height": 52
    },
    "colab_type": "code",
    "executionInfo": {
     "elapsed": 640,
     "status": "ok",
     "timestamp": 1573998527053,
     "user": {
      "displayName": "Rajeev Ratan",
      "photoUrl": "https://lh3.googleusercontent.com/a-/AAuE7mCGo6aIm0tOcd5EhqWlYb0rime9sBvHS9YMpx0D2w=s64",
      "userId": "08597265227091462140"
     },
     "user_tz": 0
    },
    "id": "SLLtch3xiqy4",
    "outputId": "62ed7463-5720-4450-9b89-4b077af12649"
   },
   "outputs": [
    {
     "name": "stdout",
     "output_type": "stream",
     "text": [
      "t-value = -4.88139271089348\n",
      "p-value = 1.5692733176039892e-06\n"
     ]
    }
   ],
   "source": [
    "t, p = stats.ttest_ind(\n",
    "    df.loc[df['Campaigns'] == 2, 'SalesInThousands'].values, \n",
    "    df.loc[df['Campaigns'] == 3, 'SalesInThousands'].values, \n",
    "    equal_var = False)\n",
    "\n",
    "print(f't-value = {str(t)}')\n",
    "print(f'p-value = {str(p)}')"
   ]
  },
  {
   "cell_type": "markdown",
   "metadata": {
    "colab_type": "text",
    "id": "QURnWYZmKqDE"
   },
   "source": [
    "# Analysis of P and t-values (2 vs 3)\n",
    "\n",
    "Based on the average sales, second marketing campaigns (47.33) is higher than those from third marketing campaigns (55.36).\n",
    "If we run the t-test and between these two campaigns, results shows that the p-value (0.000001569) is lower than 0.05 threshold, which concludes that it **rejects null hypotheses**. In other words, there's statistical difference between second marketing campaigns and third marketing campaigns."
   ]
  }
 ],
 "metadata": {
  "colab": {
   "collapsed_sections": [],
   "name": "18.0 Case Study 9 - AB Testing.ipynb",
   "provenance": [
    {
     "file_id": "1vFy9KQ5ILPKPp-1wNjNtZprg_vr9Goqd",
     "timestamp": 1573158327351
    }
   ]
  },
  "interpreter": {
   "hash": "12beae40b8a0aa97d6d5924c97e2946029edf9632e99e0aba9efdb4fd3a866d1"
  },
  "kernelspec": {
   "display_name": "Python 3.8.16",
   "language": "python",
   "name": "python3"
  },
  "language_info": {
   "codemirror_mode": {
    "name": "ipython",
    "version": 3
   },
   "file_extension": ".py",
   "mimetype": "text/x-python",
   "name": "python",
   "nbconvert_exporter": "python",
   "pygments_lexer": "ipython3",
   "version": "3.8.16"
  }
 },
 "nbformat": 4,
 "nbformat_minor": 1
}
